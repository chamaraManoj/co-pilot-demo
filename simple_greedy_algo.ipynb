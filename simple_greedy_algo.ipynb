{
  "nbformat": 4,
  "nbformat_minor": 0,
  "metadata": {
    "colab": {
      "provenance": [],
      "toc_visible": true,
      "authorship_tag": "ABX9TyObIFKXtxhuYk4aaqeG3h6q",
      "include_colab_link": true
    },
    "kernelspec": {
      "name": "python3",
      "display_name": "Python 3"
    },
    "language_info": {
      "name": "python"
    }
  },
  "cells": [
    {
      "cell_type": "markdown",
      "metadata": {
        "id": "view-in-github",
        "colab_type": "text"
      },
      "source": [
        "<a href=\"https://colab.research.google.com/github/chamaraManoj/co-pilot-demo/blob/main/simple_greedy_algo.ipynb\" target=\"_parent\"><img src=\"https://colab.research.google.com/assets/colab-badge.svg\" alt=\"Open In Colab\"/></a>"
      ]
    },
    {
      "cell_type": "markdown",
      "source": [],
      "metadata": {
        "id": "yJCOT2VmFqMs"
      }
    },
    {
      "cell_type": "markdown",
      "source": [
        "Introduction\n"
      ],
      "metadata": {
        "id": "mvGzcqUXFtzF"
      }
    },
    {
      "cell_type": "code",
      "source": [
        "# prompt: print hello world\n",
        "\n",
        "print(\"hello world\")\n"
      ],
      "metadata": {
        "id": "Jx6bhErhFwSj"
      },
      "execution_count": null,
      "outputs": []
    },
    {
      "cell_type": "code",
      "source": [
        "import click\n",
        "import random"
      ],
      "metadata": {
        "id": "jTrcjD1YGM4k"
      },
      "execution_count": 2,
      "outputs": []
    },
    {
      "cell_type": "markdown",
      "source": [
        "Function for greedy algorithm for giving the change\n"
      ],
      "metadata": {
        "id": "hXt8gvj5F4jL"
      }
    },
    {
      "cell_type": "code",
      "source": [
        "def greedy_change(amount):\n",
        "    '''\n",
        "    Provide the change for a given amount of money using the greedy algorithm. The coins used are 2 AUD, 1 AUD, 50 Cents, 20 Cents, 10 Cents, 5 Cents and 1 Cents\n",
        "    '''\n",
        "    amount = int(input(\"Enter the amount of money: \"))\n",
        "    coins = [200, 100, 50, 20, 10, 5, 1]\n",
        "    change = []\n",
        "    for coin in coins:\n",
        "        while amount >= coin:\n",
        "            amount -= coin\n",
        "            change.append(coin)\n",
        "    return change\n"
      ],
      "metadata": {
        "id": "7TLTq2v2GE6i"
      },
      "execution_count": null,
      "outputs": []
    }
  ]
}